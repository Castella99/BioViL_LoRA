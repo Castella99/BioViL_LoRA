{
 "cells": [
  {
   "cell_type": "code",
   "execution_count": 84,
   "id": "fbb87b01-d51d-4ddb-9672-97dc847780ee",
   "metadata": {},
   "outputs": [],
   "source": [
    "from typing import List\n",
    "from typing import Tuple\n",
    "\n",
    "import tempfile\n",
    "from pathlib import Path\n",
    "\n",
    "import torch\n",
    "from IPython.display import display\n",
    "from IPython.display import Markdown\n",
    "\n",
    "from health_multimodal.common.visualization import plot_phrase_grounding_similarity_map\n",
    "from health_multimodal.text import get_bert_inference\n",
    "from health_multimodal.text.utils import BertEncoderType\n",
    "from health_multimodal.image import get_image_inference\n",
    "from health_multimodal.image.utils import ImageModelType\n",
    "from health_multimodal.vlp import ImageTextInferenceEngine\n",
    "from health_multimodal.text.model import CXRBertModel, CXRBertConfig, CXRBertTokenizer\n",
    "from health_multimodal.image.model import ImageModel\n",
    "from health_multimodal.text.inference_engine import TextInferenceEngine\n",
    "from health_multimodal.image.inference_engine import ImageInferenceEngine\n",
    "from health_multimodal.vlp import ImageTextInferenceEngine\n",
    "from health_multimodal.image.data.transforms import create_chest_xray_transform_for_inference"
   ]
  },
  {
   "cell_type": "code",
   "execution_count": 12,
   "id": "ccd2f115-b102-44a5-842f-30ab4fd9fc60",
   "metadata": {},
   "outputs": [],
   "source": [
    "CXRBert = CXRBertModel(CXRBertConfig()).cuda()"
   ]
  },
  {
   "cell_type": "code",
   "execution_count": 81,
   "id": "edbf186a-be9c-47d8-854a-1e8809c18f79",
   "metadata": {},
   "outputs": [],
   "source": [
    "image_model = ImageModel('resnet50', 128).cuda()"
   ]
  },
  {
   "cell_type": "code",
   "execution_count": 59,
   "id": "96b25afa-37aa-4799-ab6d-47e42234d079",
   "metadata": {},
   "outputs": [
    {
     "name": "stderr",
     "output_type": "stream",
     "text": [
      "The tokenizer class you load from this checkpoint is not the same type as the class this function is called from. It may result in unexpected tokenization. \n",
      "The tokenizer class you load from this checkpoint is 'BertTokenizer'. \n",
      "The class this function is called from is 'CXRBertTokenizer'.\n"
     ]
    }
   ],
   "source": [
    "text_inference = TextInference = TextInferenceEngine(tokenizer=CXRBertTokenizer.from_pretrained(\"microsoft/BiomedVLP-BioViL-T\", revision=\"v1.0\"),\n",
    "                               text_model=CXRBert)"
   ]
  },
  {
   "cell_type": "code",
   "execution_count": 82,
   "id": "45eb75d3-8b78-4398-99ba-e44fb3f94d32",
   "metadata": {},
   "outputs": [],
   "source": [
    "image_inference = ImageInferenceEngine(image_model=image_model,\n",
    "                                       transform=\\\n",
    "create_chest_xray_transform_for_inference(resize=512, center_crop_size=448))"
   ]
  },
  {
   "cell_type": "code",
   "execution_count": 89,
   "id": "d94f3067-339c-495f-a8b9-fb7e0407a251",
   "metadata": {},
   "outputs": [],
   "source": [
    "image_text_inference = ImageTextInferenceEngine(\n",
    "    image_inference_engine=image_inference,\n",
    "    text_inference_engine=text_inference,\n",
    ")"
   ]
  },
  {
   "cell_type": "code",
   "execution_count": null,
   "id": "e8d4db0c-40d7-47ba-86f7-05bdeddcb616",
   "metadata": {},
   "outputs": [],
   "source": [
    "|"
   ]
  }
 ],
 "metadata": {
  "kernelspec": {
   "display_name": "cheXzero",
   "language": "python",
   "name": "chexzero"
  },
  "language_info": {
   "codemirror_mode": {
    "name": "ipython",
    "version": 3
   },
   "file_extension": ".py",
   "mimetype": "text/x-python",
   "name": "python",
   "nbconvert_exporter": "python",
   "pygments_lexer": "ipython3",
   "version": "3.9.18"
  }
 },
 "nbformat": 4,
 "nbformat_minor": 5
}
